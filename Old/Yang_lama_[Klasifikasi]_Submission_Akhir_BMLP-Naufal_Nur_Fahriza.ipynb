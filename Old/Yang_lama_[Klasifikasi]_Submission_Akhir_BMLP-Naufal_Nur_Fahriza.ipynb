{
  "nbformat": 4,
  "nbformat_minor": 0,
  "metadata": {
    "colab": {
      "provenance": []
    },
    "kernelspec": {
      "name": "python3",
      "display_name": "Python 3"
    },
    "language_info": {
      "name": "python"
    }
  },
  "cells": [
    {
      "cell_type": "markdown",
      "source": [
        "# **1. Import Library**"
      ],
      "metadata": {
        "id": "fKADPWcFKlj3"
      }
    },
    {
      "cell_type": "markdown",
      "source": [
        "Pada tahap ini, Anda perlu mengimpor beberapa pustaka (library) Python yang dibutuhkan untuk analisis data dan pembangunan model machine learning."
      ],
      "metadata": {
        "id": "LgA3ERnVn84N"
      }
    },
    {
      "cell_type": "code",
      "source": [
        "import pandas as pd\n",
        "import numpy as np\n",
        "from sklearn.model_selection import train_test_split\n",
        "from sklearn.preprocessing import StandardScaler\n",
        "from sklearn.linear_model import LogisticRegression\n",
        "from sklearn.ensemble import RandomForestClassifier\n",
        "from sklearn.metrics import accuracy_score, f1_score, confusion_matrix, classification_report"
      ],
      "metadata": {
        "id": "BlmvjLY9M4Yj"
      },
      "execution_count": 17,
      "outputs": []
    },
    {
      "cell_type": "markdown",
      "source": [
        "# **2. Memuat Dataset dari Hasil Clustering**"
      ],
      "metadata": {
        "id": "f3YIEnAFKrKL"
      }
    },
    {
      "cell_type": "markdown",
      "source": [
        "Memuat dataset hasil clustering dari file CSV ke dalam variabel DataFrame."
      ],
      "metadata": {
        "id": "Ey3ItwTen_7E"
      }
    },
    {
      "cell_type": "code",
      "source": [
        "# Memuat dataset dari URL GitHub\n",
        "url = \"https://raw.githubusercontent.com/NaufalNurFahriza/machine-learning-pemula-dicoding/main/hasil_clustering.csv\"\n",
        "df = pd.read_csv(url)\n",
        "\n",
        "# Menampilkan beberapa baris pertama dataset\n",
        "df.head()"
      ],
      "metadata": {
        "id": "GHCGNTyrM5fS",
        "outputId": "a4f40bb6-325d-4fcd-a431-c02dc6f97800",
        "colab": {
          "base_uri": "https://localhost:8080/",
          "height": 206
        }
      },
      "execution_count": 18,
      "outputs": [
        {
          "output_type": "execute_result",
          "data": {
            "text/plain": [
              "     length    weight  w_l_ratio  Cluster\n",
              "0 -0.945026 -0.270714   0.553657        4\n",
              "1 -1.475775 -0.445401   1.776943        2\n",
              "2 -1.267721 -0.261009   1.287629        2\n",
              "3 -1.382363 -0.358058   1.532286        2\n",
              "4 -0.920966 -0.338648   0.472105        4"
            ],
            "text/html": [
              "\n",
              "  <div id=\"df-b22d841e-59d6-4cca-999d-0daaf9a12c9e\" class=\"colab-df-container\">\n",
              "    <div>\n",
              "<style scoped>\n",
              "    .dataframe tbody tr th:only-of-type {\n",
              "        vertical-align: middle;\n",
              "    }\n",
              "\n",
              "    .dataframe tbody tr th {\n",
              "        vertical-align: top;\n",
              "    }\n",
              "\n",
              "    .dataframe thead th {\n",
              "        text-align: right;\n",
              "    }\n",
              "</style>\n",
              "<table border=\"1\" class=\"dataframe\">\n",
              "  <thead>\n",
              "    <tr style=\"text-align: right;\">\n",
              "      <th></th>\n",
              "      <th>length</th>\n",
              "      <th>weight</th>\n",
              "      <th>w_l_ratio</th>\n",
              "      <th>Cluster</th>\n",
              "    </tr>\n",
              "  </thead>\n",
              "  <tbody>\n",
              "    <tr>\n",
              "      <th>0</th>\n",
              "      <td>-0.945026</td>\n",
              "      <td>-0.270714</td>\n",
              "      <td>0.553657</td>\n",
              "      <td>4</td>\n",
              "    </tr>\n",
              "    <tr>\n",
              "      <th>1</th>\n",
              "      <td>-1.475775</td>\n",
              "      <td>-0.445401</td>\n",
              "      <td>1.776943</td>\n",
              "      <td>2</td>\n",
              "    </tr>\n",
              "    <tr>\n",
              "      <th>2</th>\n",
              "      <td>-1.267721</td>\n",
              "      <td>-0.261009</td>\n",
              "      <td>1.287629</td>\n",
              "      <td>2</td>\n",
              "    </tr>\n",
              "    <tr>\n",
              "      <th>3</th>\n",
              "      <td>-1.382363</td>\n",
              "      <td>-0.358058</td>\n",
              "      <td>1.532286</td>\n",
              "      <td>2</td>\n",
              "    </tr>\n",
              "    <tr>\n",
              "      <th>4</th>\n",
              "      <td>-0.920966</td>\n",
              "      <td>-0.338648</td>\n",
              "      <td>0.472105</td>\n",
              "      <td>4</td>\n",
              "    </tr>\n",
              "  </tbody>\n",
              "</table>\n",
              "</div>\n",
              "    <div class=\"colab-df-buttons\">\n",
              "\n",
              "  <div class=\"colab-df-container\">\n",
              "    <button class=\"colab-df-convert\" onclick=\"convertToInteractive('df-b22d841e-59d6-4cca-999d-0daaf9a12c9e')\"\n",
              "            title=\"Convert this dataframe to an interactive table.\"\n",
              "            style=\"display:none;\">\n",
              "\n",
              "  <svg xmlns=\"http://www.w3.org/2000/svg\" height=\"24px\" viewBox=\"0 -960 960 960\">\n",
              "    <path d=\"M120-120v-720h720v720H120Zm60-500h600v-160H180v160Zm220 220h160v-160H400v160Zm0 220h160v-160H400v160ZM180-400h160v-160H180v160Zm440 0h160v-160H620v160ZM180-180h160v-160H180v160Zm440 0h160v-160H620v160Z\"/>\n",
              "  </svg>\n",
              "    </button>\n",
              "\n",
              "  <style>\n",
              "    .colab-df-container {\n",
              "      display:flex;\n",
              "      gap: 12px;\n",
              "    }\n",
              "\n",
              "    .colab-df-convert {\n",
              "      background-color: #E8F0FE;\n",
              "      border: none;\n",
              "      border-radius: 50%;\n",
              "      cursor: pointer;\n",
              "      display: none;\n",
              "      fill: #1967D2;\n",
              "      height: 32px;\n",
              "      padding: 0 0 0 0;\n",
              "      width: 32px;\n",
              "    }\n",
              "\n",
              "    .colab-df-convert:hover {\n",
              "      background-color: #E2EBFA;\n",
              "      box-shadow: 0px 1px 2px rgba(60, 64, 67, 0.3), 0px 1px 3px 1px rgba(60, 64, 67, 0.15);\n",
              "      fill: #174EA6;\n",
              "    }\n",
              "\n",
              "    .colab-df-buttons div {\n",
              "      margin-bottom: 4px;\n",
              "    }\n",
              "\n",
              "    [theme=dark] .colab-df-convert {\n",
              "      background-color: #3B4455;\n",
              "      fill: #D2E3FC;\n",
              "    }\n",
              "\n",
              "    [theme=dark] .colab-df-convert:hover {\n",
              "      background-color: #434B5C;\n",
              "      box-shadow: 0px 1px 3px 1px rgba(0, 0, 0, 0.15);\n",
              "      filter: drop-shadow(0px 1px 2px rgba(0, 0, 0, 0.3));\n",
              "      fill: #FFFFFF;\n",
              "    }\n",
              "  </style>\n",
              "\n",
              "    <script>\n",
              "      const buttonEl =\n",
              "        document.querySelector('#df-b22d841e-59d6-4cca-999d-0daaf9a12c9e button.colab-df-convert');\n",
              "      buttonEl.style.display =\n",
              "        google.colab.kernel.accessAllowed ? 'block' : 'none';\n",
              "\n",
              "      async function convertToInteractive(key) {\n",
              "        const element = document.querySelector('#df-b22d841e-59d6-4cca-999d-0daaf9a12c9e');\n",
              "        const dataTable =\n",
              "          await google.colab.kernel.invokeFunction('convertToInteractive',\n",
              "                                                    [key], {});\n",
              "        if (!dataTable) return;\n",
              "\n",
              "        const docLinkHtml = 'Like what you see? Visit the ' +\n",
              "          '<a target=\"_blank\" href=https://colab.research.google.com/notebooks/data_table.ipynb>data table notebook</a>'\n",
              "          + ' to learn more about interactive tables.';\n",
              "        element.innerHTML = '';\n",
              "        dataTable['output_type'] = 'display_data';\n",
              "        await google.colab.output.renderOutput(dataTable, element);\n",
              "        const docLink = document.createElement('div');\n",
              "        docLink.innerHTML = docLinkHtml;\n",
              "        element.appendChild(docLink);\n",
              "      }\n",
              "    </script>\n",
              "  </div>\n",
              "\n",
              "\n",
              "<div id=\"df-e4a2bdad-f2c0-4ff0-a660-f2eac828d463\">\n",
              "  <button class=\"colab-df-quickchart\" onclick=\"quickchart('df-e4a2bdad-f2c0-4ff0-a660-f2eac828d463')\"\n",
              "            title=\"Suggest charts\"\n",
              "            style=\"display:none;\">\n",
              "\n",
              "<svg xmlns=\"http://www.w3.org/2000/svg\" height=\"24px\"viewBox=\"0 0 24 24\"\n",
              "     width=\"24px\">\n",
              "    <g>\n",
              "        <path d=\"M19 3H5c-1.1 0-2 .9-2 2v14c0 1.1.9 2 2 2h14c1.1 0 2-.9 2-2V5c0-1.1-.9-2-2-2zM9 17H7v-7h2v7zm4 0h-2V7h2v10zm4 0h-2v-4h2v4z\"/>\n",
              "    </g>\n",
              "</svg>\n",
              "  </button>\n",
              "\n",
              "<style>\n",
              "  .colab-df-quickchart {\n",
              "      --bg-color: #E8F0FE;\n",
              "      --fill-color: #1967D2;\n",
              "      --hover-bg-color: #E2EBFA;\n",
              "      --hover-fill-color: #174EA6;\n",
              "      --disabled-fill-color: #AAA;\n",
              "      --disabled-bg-color: #DDD;\n",
              "  }\n",
              "\n",
              "  [theme=dark] .colab-df-quickchart {\n",
              "      --bg-color: #3B4455;\n",
              "      --fill-color: #D2E3FC;\n",
              "      --hover-bg-color: #434B5C;\n",
              "      --hover-fill-color: #FFFFFF;\n",
              "      --disabled-bg-color: #3B4455;\n",
              "      --disabled-fill-color: #666;\n",
              "  }\n",
              "\n",
              "  .colab-df-quickchart {\n",
              "    background-color: var(--bg-color);\n",
              "    border: none;\n",
              "    border-radius: 50%;\n",
              "    cursor: pointer;\n",
              "    display: none;\n",
              "    fill: var(--fill-color);\n",
              "    height: 32px;\n",
              "    padding: 0;\n",
              "    width: 32px;\n",
              "  }\n",
              "\n",
              "  .colab-df-quickchart:hover {\n",
              "    background-color: var(--hover-bg-color);\n",
              "    box-shadow: 0 1px 2px rgba(60, 64, 67, 0.3), 0 1px 3px 1px rgba(60, 64, 67, 0.15);\n",
              "    fill: var(--button-hover-fill-color);\n",
              "  }\n",
              "\n",
              "  .colab-df-quickchart-complete:disabled,\n",
              "  .colab-df-quickchart-complete:disabled:hover {\n",
              "    background-color: var(--disabled-bg-color);\n",
              "    fill: var(--disabled-fill-color);\n",
              "    box-shadow: none;\n",
              "  }\n",
              "\n",
              "  .colab-df-spinner {\n",
              "    border: 2px solid var(--fill-color);\n",
              "    border-color: transparent;\n",
              "    border-bottom-color: var(--fill-color);\n",
              "    animation:\n",
              "      spin 1s steps(1) infinite;\n",
              "  }\n",
              "\n",
              "  @keyframes spin {\n",
              "    0% {\n",
              "      border-color: transparent;\n",
              "      border-bottom-color: var(--fill-color);\n",
              "      border-left-color: var(--fill-color);\n",
              "    }\n",
              "    20% {\n",
              "      border-color: transparent;\n",
              "      border-left-color: var(--fill-color);\n",
              "      border-top-color: var(--fill-color);\n",
              "    }\n",
              "    30% {\n",
              "      border-color: transparent;\n",
              "      border-left-color: var(--fill-color);\n",
              "      border-top-color: var(--fill-color);\n",
              "      border-right-color: var(--fill-color);\n",
              "    }\n",
              "    40% {\n",
              "      border-color: transparent;\n",
              "      border-right-color: var(--fill-color);\n",
              "      border-top-color: var(--fill-color);\n",
              "    }\n",
              "    60% {\n",
              "      border-color: transparent;\n",
              "      border-right-color: var(--fill-color);\n",
              "    }\n",
              "    80% {\n",
              "      border-color: transparent;\n",
              "      border-right-color: var(--fill-color);\n",
              "      border-bottom-color: var(--fill-color);\n",
              "    }\n",
              "    90% {\n",
              "      border-color: transparent;\n",
              "      border-bottom-color: var(--fill-color);\n",
              "    }\n",
              "  }\n",
              "</style>\n",
              "\n",
              "  <script>\n",
              "    async function quickchart(key) {\n",
              "      const quickchartButtonEl =\n",
              "        document.querySelector('#' + key + ' button');\n",
              "      quickchartButtonEl.disabled = true;  // To prevent multiple clicks.\n",
              "      quickchartButtonEl.classList.add('colab-df-spinner');\n",
              "      try {\n",
              "        const charts = await google.colab.kernel.invokeFunction(\n",
              "            'suggestCharts', [key], {});\n",
              "      } catch (error) {\n",
              "        console.error('Error during call to suggestCharts:', error);\n",
              "      }\n",
              "      quickchartButtonEl.classList.remove('colab-df-spinner');\n",
              "      quickchartButtonEl.classList.add('colab-df-quickchart-complete');\n",
              "    }\n",
              "    (() => {\n",
              "      let quickchartButtonEl =\n",
              "        document.querySelector('#df-e4a2bdad-f2c0-4ff0-a660-f2eac828d463 button');\n",
              "      quickchartButtonEl.style.display =\n",
              "        google.colab.kernel.accessAllowed ? 'block' : 'none';\n",
              "    })();\n",
              "  </script>\n",
              "</div>\n",
              "\n",
              "    </div>\n",
              "  </div>\n"
            ],
            "application/vnd.google.colaboratory.intrinsic+json": {
              "type": "dataframe",
              "variable_name": "df",
              "summary": "{\n  \"name\": \"df\",\n  \"rows\": 3525,\n  \"fields\": [\n    {\n      \"column\": \"length\",\n      \"properties\": {\n        \"dtype\": \"number\",\n        \"std\": 0.774540763010647,\n        \"min\": -1.5536179886979304,\n        \"max\": 1.1921212362319775,\n        \"num_unique_values\": 1544,\n        \"samples\": [\n          -0.0760139934263716,\n          -0.0491227329760275,\n          -0.3392652799402702\n        ],\n        \"semantic_type\": \"\",\n        \"description\": \"\"\n      }\n    },\n    {\n      \"column\": \"weight\",\n      \"properties\": {\n        \"dtype\": \"number\",\n        \"std\": 0.6095683407293514,\n        \"min\": -1.6293915724548014,\n        \"max\": 0.9229813703529226,\n        \"num_unique_values\": 221,\n        \"samples\": [\n          0.2048232039355403,\n          0.049545762547998,\n          -1.3576560500266024\n        ],\n        \"semantic_type\": \"\",\n        \"description\": \"\"\n      }\n    },\n    {\n      \"column\": \"w_l_ratio\",\n      \"properties\": {\n        \"dtype\": \"number\",\n        \"std\": 1.029279431524046,\n        \"min\": -1.4036012888914549,\n        \"max\": 2.755572558904088,\n        \"num_unique_values\": 52,\n        \"samples\": [\n          1.042971562752982,\n          2.347810416963348,\n          -0.0172100062929408\n        ],\n        \"semantic_type\": \"\",\n        \"description\": \"\"\n      }\n    },\n    {\n      \"column\": \"Cluster\",\n      \"properties\": {\n        \"dtype\": \"number\",\n        \"std\": 2,\n        \"min\": 0,\n        \"max\": 6,\n        \"num_unique_values\": 7,\n        \"samples\": [\n          4,\n          2,\n          1\n        ],\n        \"semantic_type\": \"\",\n        \"description\": \"\"\n      }\n    }\n  ]\n}"
            }
          },
          "metadata": {},
          "execution_count": 18
        }
      ]
    },
    {
      "cell_type": "markdown",
      "source": [
        "# **3. Data Splitting**"
      ],
      "metadata": {
        "id": "KkPem5eWL2UP"
      }
    },
    {
      "cell_type": "markdown",
      "source": [
        "Tahap Data Splitting bertujuan untuk memisahkan dataset menjadi dua bagian: data latih (training set) dan data uji (test set)."
      ],
      "metadata": {
        "id": "YYj1rl_JNI9Y"
      }
    },
    {
      "cell_type": "code",
      "source": [
        "# Memisahkan fitur dan target\n",
        "X = df.drop('Cluster', axis=1)\n",
        "y = df['Cluster']\n",
        "\n",
        "# Menampilkan jumlah data per cluster\n",
        "cluster_counts = df['Cluster'].value_counts().sort_index()\n",
        "print(\"Jumlah data per cluster:\\n\", cluster_counts)\n",
        "\n",
        "# Membagi dataset menjadi data latih dan data uji\n",
        "X_train, X_test, y_train, y_test = train_test_split(X, y, test_size=0.2, random_state=42)\n",
        "\n",
        "# Menampilkan ukuran data latih dan data uji\n",
        "print(\"Ukuran data latih:\", X_train.shape)\n",
        "print(\"Ukuran data uji:\", X_test.shape)"
      ],
      "metadata": {
        "id": "OubAW-7ONKVj",
        "outputId": "326bf27d-b1f7-4b26-a4de-37fef16b50fd",
        "colab": {
          "base_uri": "https://localhost:8080/"
        }
      },
      "execution_count": 25,
      "outputs": [
        {
          "output_type": "stream",
          "name": "stdout",
          "text": [
            "Jumlah data per cluster:\n",
            " Cluster\n",
            "0    930\n",
            "1    427\n",
            "2    454\n",
            "3    403\n",
            "4    471\n",
            "5    406\n",
            "6    434\n",
            "Name: count, dtype: int64\n",
            "Ukuran data latih: (2820, 3)\n",
            "Ukuran data uji: (705, 3)\n"
          ]
        }
      ]
    },
    {
      "cell_type": "markdown",
      "source": [
        "# **4. Membangun Model Klasifikasi**\n"
      ],
      "metadata": {
        "id": "IVPbB03CMhTT"
      }
    },
    {
      "cell_type": "markdown",
      "source": [
        "## **a. Membangun Model Klasifikasi**"
      ],
      "metadata": {
        "id": "Ned1pL9zMmBK"
      }
    },
    {
      "cell_type": "markdown",
      "source": [
        "## Model 1: Logistic Regression"
      ],
      "metadata": {
        "id": "WAWzPOE4Nkti"
      }
    },
    {
      "cell_type": "code",
      "source": [
        "# Membangun model Logistic Regression\n",
        "log_reg = LogisticRegression(max_iter=500)\n",
        "log_reg.fit(X_train, y_train)\n",
        "y_pred_logreg = log_reg.predict(X_test)"
      ],
      "metadata": {
        "id": "4JYxBe87NLDk"
      },
      "execution_count": 20,
      "outputs": []
    },
    {
      "cell_type": "markdown",
      "source": [
        "## Model 2: Random Forest"
      ],
      "metadata": {
        "id": "CGcbqGgY2gJi"
      }
    },
    {
      "cell_type": "code",
      "source": [
        "# Membangun model Random Forest\n",
        "rf_clf = RandomForestClassifier(n_estimators=100, random_state=42)\n",
        "rf_clf.fit(X_train, y_train)\n",
        "y_pred_rf = rf_clf.predict(X_test)"
      ],
      "metadata": {
        "id": "MIg4ZplI2TyT"
      },
      "execution_count": 21,
      "outputs": []
    },
    {
      "cell_type": "markdown",
      "source": [
        "Tulis narasi atau penjelasan algoritma yang Anda gunakan."
      ],
      "metadata": {
        "id": "seYoHNY3XU1y"
      }
    },
    {
      "cell_type": "markdown",
      "source": [
        "## **b. Evaluasi Model Klasifikasi**"
      ],
      "metadata": {
        "id": "ergzChZFEL-O"
      }
    },
    {
      "cell_type": "markdown",
      "source": [
        "Berikut adalah **rekomendasi** tahapannya.\n",
        "1. Lakukan prediksi menggunakan data uji.\n",
        "2. Hitung metrik evaluasi seperti Accuracy dan F1-Score (Opsional: Precision dan Recall).\n",
        "3. Buat confusion matrix untuk melihat detail prediksi benar dan salah."
      ],
      "metadata": {
        "id": "zOm68u-7NpLT"
      }
    },
    {
      "cell_type": "code",
      "source": [
        "# Import library yang diperlukan untuk visualisasi\n",
        "import matplotlib.pyplot as plt\n",
        "import seaborn as sns\n",
        "\n",
        "# Evaluasi model Logistic Regression\n",
        "print(\"\\nEvaluasi Logistic Regression:\")\n",
        "print(\"Accuracy:\", accuracy_score(y_test, y_pred_logreg))\n",
        "print(\"F1-Score:\", f1_score(y_test, y_pred_logreg, average='weighted'))\n",
        "print(classification_report(y_test, y_pred_logreg))\n",
        "\n",
        "# Evaluasi model Random Forest\n",
        "print(\"\\nEvaluasi Random Forest:\")\n",
        "print(\"Accuracy:\", accuracy_score(y_test, y_pred_rf))\n",
        "print(\"F1-Score:\", f1_score(y_test, y_pred_rf, average='weighted'))\n",
        "print(classification_report(y_test, y_pred_rf))\n",
        "\n",
        "# Membuat visualisasi Confusion Matrix untuk kedua model\n",
        "fig, axes = plt.subplots(1, 2, figsize=(12, 5))\n",
        "\n",
        "# Confusion Matrix untuk Logistic Regression\n",
        "sns.heatmap(confusion_matrix(y_test, y_pred_logreg), annot=True, cmap='Blues', fmt='d', ax=axes[0])\n",
        "axes[0].set_title('Confusion Matrix - Logistic Regression')\n",
        "axes[0].set_xlabel('Predicted')\n",
        "axes[0].set_ylabel('Actual')\n",
        "\n",
        "# Confusion Matrix untuk Random Forest\n",
        "sns.heatmap(confusion_matrix(y_test, y_pred_rf), annot=True, cmap='Greens', fmt='d', ax=axes[1])\n",
        "axes[1].set_title('Confusion Matrix - Random Forest')\n",
        "axes[1].set_xlabel('Predicted')\n",
        "axes[1].set_ylabel('Actual')\n",
        "\n",
        "# Menampilkan plot\n",
        "plt.show()"
      ],
      "metadata": {
        "id": "tMq4QAssNLip",
        "outputId": "985db448-74ff-4146-999c-e6ebcff6b7cb",
        "colab": {
          "base_uri": "https://localhost:8080/",
          "height": 1000
        }
      },
      "execution_count": 22,
      "outputs": [
        {
          "output_type": "stream",
          "name": "stdout",
          "text": [
            "\n",
            "Evaluasi Logistic Regression:\n",
            "Accuracy: 0.9787234042553191\n",
            "F1-Score: 0.9785720206279627\n",
            "              precision    recall  f1-score   support\n",
            "\n",
            "           0       0.99      1.00      0.99       167\n",
            "           1       0.96      0.99      0.97        78\n",
            "           2       0.93      0.99      0.96       113\n",
            "           3       1.00      1.00      1.00        72\n",
            "           4       0.99      0.90      0.94       106\n",
            "           5       1.00      1.00      1.00        84\n",
            "           6       1.00      0.98      0.99        85\n",
            "\n",
            "    accuracy                           0.98       705\n",
            "   macro avg       0.98      0.98      0.98       705\n",
            "weighted avg       0.98      0.98      0.98       705\n",
            "\n",
            "\n",
            "Evaluasi Random Forest:\n",
            "Accuracy: 0.9943262411347518\n",
            "F1-Score: 0.9943245429656725\n",
            "              precision    recall  f1-score   support\n",
            "\n",
            "           0       0.99      1.00      1.00       167\n",
            "           1       0.99      1.00      0.99        78\n",
            "           2       0.98      0.99      0.99       113\n",
            "           3       1.00      1.00      1.00        72\n",
            "           4       1.00      0.98      0.99       106\n",
            "           5       1.00      1.00      1.00        84\n",
            "           6       1.00      0.99      0.99        85\n",
            "\n",
            "    accuracy                           0.99       705\n",
            "   macro avg       0.99      0.99      0.99       705\n",
            "weighted avg       0.99      0.99      0.99       705\n",
            "\n"
          ]
        },
        {
          "output_type": "display_data",
          "data": {
            "text/plain": [
              "<Figure size 1200x500 with 4 Axes>"
            ],
            "image/png": "[encoded data removed]"
          },
          "metadata": {}
        }
      ]
    },
    {
      "cell_type": "markdown",
      "source": [
        "## **c. Analisis Hasil Evaluasi Model Klasifikasi**"
      ],
      "metadata": {
        "id": "ZRsOdm4uEgAW"
      }
    },
    {
      "cell_type": "markdown",
      "source": [
        "Berikut adalah analisis hasil evaluasi model klasifikasi, identifikasi kelemahan model, dan rekomendasi tindakan lanjutan:\n",
        "\n",
        "1. Bandingkan hasil evaluasi kedua algoritma tersebut\n",
        "\n",
        "\n",
        "*   Logistic Regression mendapatkan nilai Accuracy: 0.9787 (97.87%) dan F1-Score: 0.9786 (97.86%). Hasil Classification Report: Precision: Rata-rata precision untuk semua kelas adalah 0.98. dan Recall: Rata-rata recall untuk semua kelas adalah 0.98.\n",
        "\n",
        "*   Random Forest mendapatkan nilai Accuracy: 0.9943 (99.43%) dan F1-Score: 0.9943 (99.43%). Hasil Classification Report: Precision: Rata-rata precision untuk semua kelas adalah 0.99. dan Recall: Rata-rata recall untuk semua kelas adalah 0.99.\n",
        "\n",
        "*   Kesimpulan Random Forest unggul dibandingkan Logistic Regression dengan akurasi dan F1-score lebih tinggi (99.43% vs 97.87%)\n",
        "\n",
        "\n",
        "2. Identifikasi kelemahan model, seperti:\n",
        "  - Precision atau Recall Rendah untuk Kelas Tertentu: Pada Logistic Regression, kelas 4 memiliki recall yang relatif rendah (0.90), yang berarti model kurang baik dalam mengidentifikasi sampel kelas 4. Pada Random Forest, semua kelas memiliki precision dan recall yang tinggi, tetapi jika ada kelas dengan performa rendah, itu perlu diperhatikan.\n",
        "\n",
        "  - Apakah model mengalami overfitting atau underfitting?\n",
        "  Pada Logistic Regression tidak tanda-tanda overfitting karena performa pada data latih dan data uji cukup seimbang. Sementara Random Forest Tidak menunjukkan tanda-tanda overfitting atau underfitting karena performa pada data latih dan data uji sangat baik.\n",
        "\n",
        "3. Berikan rekomendasi tindakan lanjutan, dapat dengan melakukan Tuning Hyperparameter untuk meningkatkan performa kelas yang lemah. Selain itu, dapat melakukan resampling pada kelas tertentu yang memiliki jumlah sampe yang imbalance dengan menggunakan teknik seperti oversampling."
      ],
      "metadata": {
        "id": "Hm3BhSi6N4_l"
      }
    }
  ]
}